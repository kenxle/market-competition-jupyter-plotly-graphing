{
 "cells": [
  {
   "cell_type": "code",
   "execution_count": 1,
   "metadata": {},
   "outputs": [
    {
     "data": {
      "text/html": [
       "<script>requirejs.config({paths: { 'plotly': ['https://cdn.plot.ly/plotly-latest.min']},});if(!window.Plotly) {{require(['plotly'],function(plotly) {window.Plotly=plotly;});}}</script>"
      ],
      "text/vnd.plotly.v1+html": [
       "<script>requirejs.config({paths: { 'plotly': ['https://cdn.plot.ly/plotly-latest.min']},});if(!window.Plotly) {{require(['plotly'],function(plotly) {window.Plotly=plotly;});}}</script>"
      ]
     },
     "metadata": {},
     "output_type": "display_data"
    },
    {
     "name": "stdout",
     "output_type": "stream",
     "text": [
      "file: 68/w02_MBA_c1_out.xlsm\n",
      "sheets: P60 P61 P62 P63 P64 P65 P66 P67 P68 "
     ]
    }
   ],
   "source": [
    "# Read in file\n",
    "import numpy as np\n",
    "import pandas as pd\n",
    "from pandas import ExcelWriter\n",
    "from pandas import ExcelFile\n",
    "import matplotlib\n",
    "import matplotlib.pyplot as plt\n",
    "%matplotlib inline\n",
    "import plotly.plotly as py\n",
    "import plotly.graph_objs as go\n",
    "from plotly.graph_objs import *\n",
    "from plotly import __version__\n",
    "from plotly.offline import download_plotlyjs, init_notebook_mode, plot, iplot\n",
    "init_notebook_mode(connected=True)\n",
    "\n",
    "#file setup\n",
    "end_period=68\n",
    "start_period=60\n",
    "sdir=str(end_period)+'/'\n",
    "filename='w02_MBA_c1_out.xlsm'\n",
    "\n",
    "\n",
    "print('file: ' + sdir+filename)\n",
    "print('sheets:', end=' ')\n",
    "for cur_period in range(start_period, end_period+1):\n",
    "    sheetname='P'+str(cur_period)\n",
    "    print(sheetname, end=' ')\n",
    "    df = pd.read_excel(sdir+filename, sheet_name=sheetname, header=1)\n",
    "    # print(df[0])\n",
    "    # Name the first column\n",
    "    cols = list(df.columns.values)\n",
    "    cols[0] = \"Attribute\"\n",
    "    df.columns = cols\n",
    "    df['period'] = cur_period\n",
    "    df = df.drop(['Unnamed: 8', 'Unnamed: 9', 'Unnamed: 10'], axis=1)\n",
    "    \n",
    "    if cur_period == start_period:\n",
    "        df_public_countries1 = df.head(49).copy()\n",
    "        df_public_companies1 = df.iloc[49:75].copy()\n",
    "        df_private1 = df.iloc[75:289].copy()\n",
    "    else:\n",
    "        df_public_countries1 = df_public_countries1.append(df.head(49).copy())\n",
    "        df_public_companies1 = df_public_companies1.append(df.iloc[49:75].copy())\n",
    "        df_private1 = df_private1.append(df.iloc[75:289].copy())\n",
    "        \n",
    "df_private2 = df_private1.drop(['MEXICO', 'CHINA', 'U.K.', 'GERMAN', 'U.S.', 'TOTAL'], axis=1)\n",
    "df_private2.columns = [\"Attribute\", \"value\", \"period\"]\n",
    "df_public_companies2 = df_public_companies1.drop(['U.S.', 'TOTAL'], axis=1)\n",
    "\n",
    "df_public_companies2.columns = [\"Attribute\", \"Company 1\", \"Company 2\", \"Company 3\", \"Company 4\", \"Company 5\", \"period\"]\n",
    "# display(df_private2.describe())\n",
    "# display(df_public_companies2.describe())\n",
    "# display(df_public_companies2)\n",
    "# display(df_public_countries1.head())\n",
    "# display(df_public_companies2.head())\n",
    "# display(df_private2)\n",
    "\n",
    "df_public_countries = df_public_countries1.set_index(['period', 'Attribute'])\n",
    "df_public_companies = df_public_companies2.set_index(['period', 'Attribute'])\n",
    "df_private = df_private2.drop_duplicates().set_index(['period', 'Attribute'])"
   ]
  },
  {
   "cell_type": "markdown",
   "metadata": {},
   "source": [
    "<h1>Goal: WACC 9%</h1>"
   ]
  },
  {
   "cell_type": "code",
   "execution_count": 2,
   "metadata": {},
   "outputs": [
    {
     "data": {
      "application/vnd.plotly.v1+json": {
       "data": [
        {
         "name": "Level of Equity",
         "opacity": 0.2,
         "type": "bar",
         "x": [
          60,
          61,
          62,
          63,
          64,
          65,
          66,
          67,
          68
         ],
         "y": [
          16101019.01163242,
          18958625.607588097,
          20473276.83292786,
          20781084.059720293,
          19222001.0529228,
          21502469.482162863,
          24900707.204984933,
          26548773.05450645,
          29062257.724531464
         ],
         "yaxis": "y2"
        },
        {
         "name": "Level of debt",
         "opacity": 0.2,
         "type": "bar",
         "x": [
          60,
          61,
          62,
          63,
          64,
          65,
          66,
          67,
          68
         ],
         "y": [
          30315466,
          29391454,
          22987067,
          23554848,
          23111953,
          22700131,
          22338594,
          19816257,
          14131268
         ],
         "yaxis": "y2"
        },
        {
         "name": "Capital Charge",
         "opacity": 0.2,
         "type": "bar",
         "x": [
          60,
          61,
          62,
          63,
          64,
          65,
          66,
          67,
          68
         ],
         "y": [
          1276520.3600708104,
          1100179.9591137024,
          972768.5883071965,
          991848.9135890072,
          972973.29694107,
          992744.7638660716,
          1070451.1670126233,
          1036225.3254486613,
          956754.7988332866
         ],
         "yaxis": "y2"
        },
        {
         "name": "Debt/Equity Ratio",
         "type": "scatter",
         "x": [
          60,
          61,
          62,
          63,
          64,
          65,
          66,
          67,
          68
         ],
         "y": [
          1.8828290295227987,
          1.550294552377057,
          1.1227839679786447,
          1.1334754208350497,
          1.2023697707833447,
          1.0556987893335064,
          0.8971068097024965,
          0.7464095218003434,
          0.48624123197668123
         ],
         "yaxis": "y1"
        },
        {
         "name": "WACC",
         "type": "scatter",
         "x": [
          60,
          61,
          62,
          63,
          64,
          65,
          66,
          67,
          68
         ],
         "y": [
          0.11000577572824846,
          0.09101784055313442,
          0.08953160536849461,
          0.08948488212702883,
          0.09193313676532366,
          0.08983586965809175,
          0.09064072835181261,
          0.08939714472139723,
          0.08860168581143672
         ],
         "yaxis": "y3"
        }
       ],
       "layout": {
        "title": "Capital and its Cost",
        "xaxis": {
         "title": "Time Period"
        },
        "yaxis": {
         "title": "Debt/Equity"
        },
        "yaxis2": {
         "overlaying": "y",
         "side": "right",
         "tickfont": {
          "color": "rgb(148, 103, 189)"
         },
         "title": "Capital",
         "titlefont": {
          "color": "rgb(148, 103, 189)"
         }
        },
        "yaxis3": {
         "anchor": "free",
         "overlaying": "y",
         "position": 0.9,
         "side": "right",
         "tickfont": {
          "color": "#000000"
         },
         "title": "WACC",
         "titlefont": {
          "color": "#000000"
         }
        }
       }
      },
      "text/html": [
       "<div id=\"05d6eecb-e331-44bd-86ec-cc0d30d0b6cb\" style=\"height: 525px; width: 100%;\" class=\"plotly-graph-div\"></div><script type=\"text/javascript\">require([\"plotly\"], function(Plotly) { window.PLOTLYENV=window.PLOTLYENV || {};window.PLOTLYENV.BASE_URL=\"https://plot.ly\";Plotly.newPlot(\"05d6eecb-e331-44bd-86ec-cc0d30d0b6cb\", [{\"type\": \"bar\", \"x\": [60, 61, 62, 63, 64, 65, 66, 67, 68], \"y\": [16101019.01163242, 18958625.607588097, 20473276.83292786, 20781084.059720293, 19222001.0529228, 21502469.482162863, 24900707.204984933, 26548773.05450645, 29062257.724531464], \"name\": \"Level of Equity\", \"yaxis\": \"y2\", \"opacity\": 0.2}, {\"type\": \"bar\", \"x\": [60, 61, 62, 63, 64, 65, 66, 67, 68], \"y\": [30315466.0, 29391454.0, 22987067.0, 23554848.0, 23111953.0, 22700131.0, 22338594.0, 19816257.0, 14131268.0], \"name\": \"Level of debt\", \"yaxis\": \"y2\", \"opacity\": 0.2}, {\"type\": \"bar\", \"x\": [60, 61, 62, 63, 64, 65, 66, 67, 68], \"y\": [1276520.3600708104, 1100179.9591137024, 972768.5883071965, 991848.9135890072, 972973.29694107, 992744.7638660716, 1070451.1670126233, 1036225.3254486613, 956754.7988332866], \"name\": \"Capital Charge\", \"yaxis\": \"y2\", \"opacity\": 0.2}, {\"type\": \"scatter\", \"x\": [60, 61, 62, 63, 64, 65, 66, 67, 68], \"y\": [1.8828290295227987, 1.550294552377057, 1.1227839679786447, 1.1334754208350497, 1.2023697707833447, 1.0556987893335064, 0.8971068097024965, 0.7464095218003434, 0.48624123197668123], \"name\": \"Debt/Equity Ratio\", \"yaxis\": \"y1\"}, {\"type\": \"scatter\", \"x\": [60, 61, 62, 63, 64, 65, 66, 67, 68], \"y\": [0.11000577572824846, 0.09101784055313442, 0.08953160536849461, 0.08948488212702883, 0.09193313676532366, 0.08983586965809175, 0.09064072835181261, 0.08939714472139723, 0.08860168581143672], \"name\": \"WACC\", \"yaxis\": \"y3\"}], {\"xaxis\": {\"title\": \"Time Period\"}, \"yaxis\": {\"title\": \"Debt/Equity\"}, \"yaxis2\": {\"title\": \"Capital\", \"titlefont\": {\"color\": \"rgb(148, 103, 189)\"}, \"tickfont\": {\"color\": \"rgb(148, 103, 189)\"}, \"overlaying\": \"y\", \"side\": \"right\"}, \"yaxis3\": {\"title\": \"WACC\", \"titlefont\": {\"color\": \"#000000\"}, \"tickfont\": {\"color\": \"#000000\"}, \"anchor\": \"free\", \"overlaying\": \"y\", \"side\": \"right\", \"position\": 0.9}, \"title\": \"Capital and its Cost\"}, {\"showLink\": true, \"linkText\": \"Export to plot.ly\"})});</script>"
      ],
      "text/vnd.plotly.v1+html": [
       "<div id=\"05d6eecb-e331-44bd-86ec-cc0d30d0b6cb\" style=\"height: 525px; width: 100%;\" class=\"plotly-graph-div\"></div><script type=\"text/javascript\">require([\"plotly\"], function(Plotly) { window.PLOTLYENV=window.PLOTLYENV || {};window.PLOTLYENV.BASE_URL=\"https://plot.ly\";Plotly.newPlot(\"05d6eecb-e331-44bd-86ec-cc0d30d0b6cb\", [{\"type\": \"bar\", \"x\": [60, 61, 62, 63, 64, 65, 66, 67, 68], \"y\": [16101019.01163242, 18958625.607588097, 20473276.83292786, 20781084.059720293, 19222001.0529228, 21502469.482162863, 24900707.204984933, 26548773.05450645, 29062257.724531464], \"name\": \"Level of Equity\", \"yaxis\": \"y2\", \"opacity\": 0.2}, {\"type\": \"bar\", \"x\": [60, 61, 62, 63, 64, 65, 66, 67, 68], \"y\": [30315466.0, 29391454.0, 22987067.0, 23554848.0, 23111953.0, 22700131.0, 22338594.0, 19816257.0, 14131268.0], \"name\": \"Level of debt\", \"yaxis\": \"y2\", \"opacity\": 0.2}, {\"type\": \"bar\", \"x\": [60, 61, 62, 63, 64, 65, 66, 67, 68], \"y\": [1276520.3600708104, 1100179.9591137024, 972768.5883071965, 991848.9135890072, 972973.29694107, 992744.7638660716, 1070451.1670126233, 1036225.3254486613, 956754.7988332866], \"name\": \"Capital Charge\", \"yaxis\": \"y2\", \"opacity\": 0.2}, {\"type\": \"scatter\", \"x\": [60, 61, 62, 63, 64, 65, 66, 67, 68], \"y\": [1.8828290295227987, 1.550294552377057, 1.1227839679786447, 1.1334754208350497, 1.2023697707833447, 1.0556987893335064, 0.8971068097024965, 0.7464095218003434, 0.48624123197668123], \"name\": \"Debt/Equity Ratio\", \"yaxis\": \"y1\"}, {\"type\": \"scatter\", \"x\": [60, 61, 62, 63, 64, 65, 66, 67, 68], \"y\": [0.11000577572824846, 0.09101784055313442, 0.08953160536849461, 0.08948488212702883, 0.09193313676532366, 0.08983586965809175, 0.09064072835181261, 0.08939714472139723, 0.08860168581143672], \"name\": \"WACC\", \"yaxis\": \"y3\"}], {\"xaxis\": {\"title\": \"Time Period\"}, \"yaxis\": {\"title\": \"Debt/Equity\"}, \"yaxis2\": {\"title\": \"Capital\", \"titlefont\": {\"color\": \"rgb(148, 103, 189)\"}, \"tickfont\": {\"color\": \"rgb(148, 103, 189)\"}, \"overlaying\": \"y\", \"side\": \"right\"}, \"yaxis3\": {\"title\": \"WACC\", \"titlefont\": {\"color\": \"#000000\"}, \"tickfont\": {\"color\": \"#000000\"}, \"anchor\": \"free\", \"overlaying\": \"y\", \"side\": \"right\", \"position\": 0.9}, \"title\": \"Capital and its Cost\"}, {\"showLink\": true, \"linkText\": \"Export to plot.ly\"})});</script>"
      ]
     },
     "metadata": {},
     "output_type": "display_data"
    }
   ],
   "source": [
    "\n",
    "############\n",
    "\n",
    "d=[]\n",
    "d.append(Bar(\n",
    "        x=df_private.index.levels[0].values, \n",
    "        y=df_private.xs('Level of Equity', level=1).values.flatten(),\n",
    "        name='Level of Equity',\n",
    "        yaxis='y2',\n",
    "        opacity=0.2))\n",
    "d.append(Bar(\n",
    "        x=df_private.index.levels[0].values, \n",
    "        y=df_private.xs('Level of debt', level=1).values.flatten(),\n",
    "        name='Level of debt',\n",
    "        yaxis='y2',\n",
    "        opacity=0.2))\n",
    "d.append(Bar(\n",
    "        x=df_private.index.levels[0].values, \n",
    "        y=df_private.xs('Capital Charge', level=1).values.flatten(),\n",
    "        name='Capital Charge',\n",
    "        yaxis='y2',\n",
    "        opacity=0.2))\n",
    "d.append(Scatter(\n",
    "        x=df_private.index.levels[0].values, \n",
    "        y=df_private.xs('Debt/Equity Ratio', level=1).values.flatten(),\n",
    "        name='Debt/Equity Ratio',\n",
    "        yaxis='y1'))\n",
    "d.append(Scatter(\n",
    "        x=df_private.index.levels[0].values, \n",
    "        y=df_private.xs('WACC', level=1).values.flatten(),\n",
    "        name='WACC',\n",
    "        yaxis='y3'))\n",
    "\n",
    "\n",
    "\n",
    "data = Data(d)\n",
    "\n",
    "layout=Layout(\n",
    "        xaxis=dict(\n",
    "            title='Time Period'\n",
    "        ),\n",
    "        yaxis=dict(\n",
    "            title='Debt/Equity'\n",
    "        ),\n",
    "        yaxis2=dict(\n",
    "            title='Capital',\n",
    "            titlefont=dict(\n",
    "                color='rgb(148, 103, 189)'\n",
    "            ),\n",
    "            tickfont=dict(\n",
    "                color='rgb(148, 103, 189)'\n",
    "            ),\n",
    "            overlaying='y',\n",
    "            side='right'\n",
    "        ),\n",
    "        yaxis3=dict(\n",
    "            title='WACC',\n",
    "            titlefont=dict(\n",
    "                color='#000000'\n",
    "            ),\n",
    "            tickfont=dict(\n",
    "                color='#000000'\n",
    "            ),\n",
    "            anchor='free',\n",
    "            overlaying='y',\n",
    "            side='right',\n",
    "            position=0.90\n",
    "        ),\n",
    "        title= 'Capital and its Cost')\n",
    "\n",
    "fig = Figure(data=data, layout=layout)\n",
    "iplot(fig)\n"
   ]
  },
  {
   "cell_type": "markdown",
   "metadata": {},
   "source": [
    "<h1>GOAL: 110% Relative Quality on P2</h1>"
   ]
  },
  {
   "cell_type": "code",
   "execution_count": 3,
   "metadata": {},
   "outputs": [
    {
     "data": {
      "application/vnd.plotly.v1+json": {
       "data": [
        {
         "name": "P2 Quality Index Prod 2",
         "type": "scatter",
         "x": [
          60,
          61,
          62,
          63,
          64,
          65,
          66,
          67,
          68
         ],
         "y": [
          1,
          1.0704118921641186,
          1.0981747705318068,
          1.106767602413,
          1.1262694294175526,
          1.1396119812473853,
          1.1443133277039426,
          1.1284697133707076,
          1.136822385547031
         ],
         "yaxis": "y1"
        },
        {
         "name": "P1 Quality Index Prod 1",
         "type": "scatter",
         "x": [
          60,
          61,
          62,
          63,
          64,
          65,
          66,
          67,
          68
         ],
         "y": [
          1,
          0.989061246044104,
          0.9756987129142162,
          0.9599970969027438,
          0.9680277934168344,
          0.9708460274001449,
          0.9689264731528925,
          1.0285137608057737,
          1.0174788071938214
         ],
         "yaxis": "y1"
        },
        {
         "name": "P1 Absolute Quality - Product 1",
         "opacity": 0.3,
         "type": "scatter",
         "x": [
          60,
          61,
          62,
          63,
          64,
          65,
          66,
          67,
          68
         ],
         "y": [
          0.6283136625369727,
          0.6104792448436348,
          0.5946136548883812,
          0.5803270275832391,
          0.5765087234268224,
          0.5716193767208729,
          0.5659163399444272,
          0.6063703473959967,
          0.5896600851822446
         ],
         "yaxis": "y3"
        },
        {
         "name": "P2 Absolute Quality - Product 2",
         "opacity": 0.3,
         "type": "scatter",
         "x": [
          60,
          61,
          62,
          63,
          64,
          65,
          66,
          67,
          68
         ],
         "y": [
          0.6695878204152278,
          0.7237051527268573,
          0.7654909159885671,
          0.7975797951074208,
          0.822046140203203,
          0.8405230961289457,
          0.8485943821754893,
          0.8542762582337895,
          0.8546349112353276
         ],
         "yaxis": "y3"
        },
        {
         "name": "Research & Development",
         "opacity": 0.2,
         "type": "bar",
         "x": [
          60,
          61,
          62,
          63,
          64,
          65,
          66,
          67,
          68
         ],
         "y": [
          4800000,
          8000000,
          8000000,
          8000000,
          8100000,
          8100000,
          7300000,
          7300000,
          6800000
         ],
         "yaxis": "y2"
        }
       ],
       "layout": {
        "title": "R&D, Factory Location, and Relative Quality",
        "xaxis": {
         "title": "Time Period"
        },
        "yaxis": {
         "title": "Quality Index"
        },
        "yaxis2": {
         "overlaying": "y",
         "side": "right",
         "tickfont": {
          "color": "rgb(148, 103, 189)"
         },
         "title": "Research Spending",
         "titlefont": {
          "color": "rgb(148, 103, 189)"
         }
        },
        "yaxis3": {
         "anchor": "free",
         "overlaying": "y",
         "position": 0.9,
         "side": "right",
         "tickfont": {
          "color": "#000000"
         },
         "title": "Factory Location: 1=JPN, 2=MEX, 3=CHI, 4=UK, 5=GER, 6=US",
         "titlefont": {
          "color": "#000000"
         }
        }
       }
      },
      "text/html": [
       "<div id=\"6a6c9e95-e98a-4fa4-947e-689657d7894c\" style=\"height: 525px; width: 100%;\" class=\"plotly-graph-div\"></div><script type=\"text/javascript\">require([\"plotly\"], function(Plotly) { window.PLOTLYENV=window.PLOTLYENV || {};window.PLOTLYENV.BASE_URL=\"https://plot.ly\";Plotly.newPlot(\"6a6c9e95-e98a-4fa4-947e-689657d7894c\", [{\"type\": \"scatter\", \"x\": [60, 61, 62, 63, 64, 65, 66, 67, 68], \"y\": [1.0, 1.0704118921641186, 1.0981747705318068, 1.106767602413, 1.1262694294175526, 1.1396119812473853, 1.1443133277039426, 1.1284697133707076, 1.136822385547031], \"name\": \"P2 Quality Index Prod 2\", \"yaxis\": \"y1\"}, {\"type\": \"scatter\", \"x\": [60, 61, 62, 63, 64, 65, 66, 67, 68], \"y\": [1.0, 0.989061246044104, 0.9756987129142162, 0.9599970969027438, 0.9680277934168344, 0.9708460274001449, 0.9689264731528925, 1.0285137608057737, 1.0174788071938214], \"name\": \"P1 Quality Index Prod 1\", \"yaxis\": \"y1\"}, {\"type\": \"scatter\", \"x\": [60, 61, 62, 63, 64, 65, 66, 67, 68], \"y\": [0.6283136625369727, 0.6104792448436348, 0.5946136548883812, 0.5803270275832391, 0.5765087234268224, 0.5716193767208729, 0.5659163399444272, 0.6063703473959967, 0.5896600851822446], \"name\": \"P1 Absolute Quality - Product 1\", \"yaxis\": \"y3\", \"opacity\": 0.3}, {\"type\": \"scatter\", \"x\": [60, 61, 62, 63, 64, 65, 66, 67, 68], \"y\": [0.6695878204152278, 0.7237051527268573, 0.7654909159885671, 0.7975797951074208, 0.822046140203203, 0.8405230961289457, 0.8485943821754893, 0.8542762582337895, 0.8546349112353276], \"name\": \"P2 Absolute Quality - Product 2\", \"yaxis\": \"y3\", \"opacity\": 0.3}, {\"type\": \"bar\", \"x\": [60, 61, 62, 63, 64, 65, 66, 67, 68], \"y\": [4800000.0, 8000000.0, 8000000.0, 8000000.0, 8100000.0, 8100000.0, 7300000.0, 7300000.0, 6800000.0], \"name\": \"Research & Development\", \"yaxis\": \"y2\", \"opacity\": 0.2}], {\"xaxis\": {\"title\": \"Time Period\"}, \"yaxis\": {\"title\": \"Quality Index\"}, \"yaxis2\": {\"title\": \"Research Spending\", \"titlefont\": {\"color\": \"rgb(148, 103, 189)\"}, \"tickfont\": {\"color\": \"rgb(148, 103, 189)\"}, \"overlaying\": \"y\", \"side\": \"right\"}, \"yaxis3\": {\"title\": \"Factory Location: 1=JPN, 2=MEX, 3=CHI, 4=UK, 5=GER, 6=US\", \"titlefont\": {\"color\": \"#000000\"}, \"tickfont\": {\"color\": \"#000000\"}, \"anchor\": \"free\", \"overlaying\": \"y\", \"side\": \"right\", \"position\": 0.9}, \"title\": \"R&D, Factory Location, and Relative Quality\"}, {\"showLink\": true, \"linkText\": \"Export to plot.ly\"})});</script>"
      ],
      "text/vnd.plotly.v1+html": [
       "<div id=\"6a6c9e95-e98a-4fa4-947e-689657d7894c\" style=\"height: 525px; width: 100%;\" class=\"plotly-graph-div\"></div><script type=\"text/javascript\">require([\"plotly\"], function(Plotly) { window.PLOTLYENV=window.PLOTLYENV || {};window.PLOTLYENV.BASE_URL=\"https://plot.ly\";Plotly.newPlot(\"6a6c9e95-e98a-4fa4-947e-689657d7894c\", [{\"type\": \"scatter\", \"x\": [60, 61, 62, 63, 64, 65, 66, 67, 68], \"y\": [1.0, 1.0704118921641186, 1.0981747705318068, 1.106767602413, 1.1262694294175526, 1.1396119812473853, 1.1443133277039426, 1.1284697133707076, 1.136822385547031], \"name\": \"P2 Quality Index Prod 2\", \"yaxis\": \"y1\"}, {\"type\": \"scatter\", \"x\": [60, 61, 62, 63, 64, 65, 66, 67, 68], \"y\": [1.0, 0.989061246044104, 0.9756987129142162, 0.9599970969027438, 0.9680277934168344, 0.9708460274001449, 0.9689264731528925, 1.0285137608057737, 1.0174788071938214], \"name\": \"P1 Quality Index Prod 1\", \"yaxis\": \"y1\"}, {\"type\": \"scatter\", \"x\": [60, 61, 62, 63, 64, 65, 66, 67, 68], \"y\": [0.6283136625369727, 0.6104792448436348, 0.5946136548883812, 0.5803270275832391, 0.5765087234268224, 0.5716193767208729, 0.5659163399444272, 0.6063703473959967, 0.5896600851822446], \"name\": \"P1 Absolute Quality - Product 1\", \"yaxis\": \"y3\", \"opacity\": 0.3}, {\"type\": \"scatter\", \"x\": [60, 61, 62, 63, 64, 65, 66, 67, 68], \"y\": [0.6695878204152278, 0.7237051527268573, 0.7654909159885671, 0.7975797951074208, 0.822046140203203, 0.8405230961289457, 0.8485943821754893, 0.8542762582337895, 0.8546349112353276], \"name\": \"P2 Absolute Quality - Product 2\", \"yaxis\": \"y3\", \"opacity\": 0.3}, {\"type\": \"bar\", \"x\": [60, 61, 62, 63, 64, 65, 66, 67, 68], \"y\": [4800000.0, 8000000.0, 8000000.0, 8000000.0, 8100000.0, 8100000.0, 7300000.0, 7300000.0, 6800000.0], \"name\": \"Research & Development\", \"yaxis\": \"y2\", \"opacity\": 0.2}], {\"xaxis\": {\"title\": \"Time Period\"}, \"yaxis\": {\"title\": \"Quality Index\"}, \"yaxis2\": {\"title\": \"Research Spending\", \"titlefont\": {\"color\": \"rgb(148, 103, 189)\"}, \"tickfont\": {\"color\": \"rgb(148, 103, 189)\"}, \"overlaying\": \"y\", \"side\": \"right\"}, \"yaxis3\": {\"title\": \"Factory Location: 1=JPN, 2=MEX, 3=CHI, 4=UK, 5=GER, 6=US\", \"titlefont\": {\"color\": \"#000000\"}, \"tickfont\": {\"color\": \"#000000\"}, \"anchor\": \"free\", \"overlaying\": \"y\", \"side\": \"right\", \"position\": 0.9}, \"title\": \"R&D, Factory Location, and Relative Quality\"}, {\"showLink\": true, \"linkText\": \"Export to plot.ly\"})});</script>"
      ]
     },
     "metadata": {},
     "output_type": "display_data"
    }
   ],
   "source": [
    "# display()\n",
    "d=[]\n",
    "d.append(Scatter(\n",
    "        x=df_private.index.levels[0].values, \n",
    "        y=df_public_companies['Company 1'].xs('Quality Index Prod 2', level=1).values.flatten(),\n",
    "        name='P2 Quality Index Prod 2',\n",
    "        yaxis='y1'))\n",
    "d.append(Scatter(\n",
    "        x=df_private.index.levels[0].values, \n",
    "        y=df_public_companies['Company 1'].xs('Quality Index Prod 1', level=1).values.flatten(),\n",
    "        name='P1 Quality Index Prod 1',\n",
    "        yaxis='y1'))\n",
    "d.append(Scatter(\n",
    "        x=df_private.index.levels[0].values, \n",
    "        y=df_private.xs('Absolute Quality - Product 1', level=1).values.flatten(),\n",
    "        name='P1 Absolute Quality - Product 1',\n",
    "        yaxis='y3',\n",
    "        opacity=0.3))\n",
    "d.append(Scatter(\n",
    "        x=df_private.index.levels[0].values, \n",
    "        y=df_private.xs('Absolute Quality - Product 2', level=1).values.flatten(),\n",
    "        name='P2 Absolute Quality - Product 2',\n",
    "        yaxis='y3',\n",
    "        opacity=0.3))\n",
    "\n",
    "\n",
    "\n",
    "d.append(Bar(\n",
    "        x=df_private.index.levels[0].values, \n",
    "        y=df_private.xs('Research & Development', level=1).values.flatten(),\n",
    "        name='Research & Development',\n",
    "        yaxis='y2',\n",
    "        opacity=0.2))\n",
    "\n",
    "data = Data(d)\n",
    "\n",
    "layout=Layout(\n",
    "        xaxis=dict(\n",
    "            title='Time Period'\n",
    "        ),\n",
    "        yaxis=dict(\n",
    "            title='Quality Index'\n",
    "        ),\n",
    "        yaxis2=dict(\n",
    "            title='Research Spending',\n",
    "            titlefont=dict(\n",
    "                color='rgb(148, 103, 189)'\n",
    "            ),\n",
    "            tickfont=dict(\n",
    "                color='rgb(148, 103, 189)'\n",
    "            ),\n",
    "            overlaying='y',\n",
    "            side='right'\n",
    "        ),\n",
    "        yaxis3=dict(\n",
    "            title='Factory Location: 1=JPN, 2=MEX, 3=CHI, 4=UK, 5=GER, 6=US',\n",
    "            titlefont=dict(\n",
    "                color='#000000'\n",
    "            ),\n",
    "            tickfont=dict(\n",
    "                color='#000000'\n",
    "            ),\n",
    "            anchor='free',\n",
    "            overlaying='y',\n",
    "            side='right',\n",
    "            position=0.90\n",
    "        ),\n",
    "        title= 'R&D, Factory Location, and Relative Quality')\n",
    "\n",
    "fig = Figure(data=data, layout=layout)\n",
    "iplot(fig)"
   ]
  },
  {
   "cell_type": "markdown",
   "metadata": {},
   "source": [
    "<h1>GOAL: Make Money</h1>"
   ]
  },
  {
   "cell_type": "code",
   "execution_count": 4,
   "metadata": {},
   "outputs": [
    {
     "data": {
      "application/vnd.plotly.v1+json": {
       "data": [
        {
         "name": "Net income",
         "type": "scatter",
         "x": [
          60,
          61,
          62,
          63,
          64,
          65,
          66,
          67,
          68
         ],
         "y": [
          3026976.3681235686,
          857606.5959556773,
          1514651.2253397629,
          307807.22679243237,
          440916.9932025075,
          2280468.429240063,
          3398237.72282207,
          3648065.8495215178,
          4513484.670025013
         ],
         "yaxis": "y1"
        }
       ],
       "layout": {
        "title": "Net Income",
        "xaxis": {
         "title": "xx"
        },
        "yaxis": {
         "title": "yy"
        }
       }
      },
      "text/html": [
       "<div id=\"4c1d211b-7bac-46f8-85f2-fe5c91f1d966\" style=\"height: 525px; width: 100%;\" class=\"plotly-graph-div\"></div><script type=\"text/javascript\">require([\"plotly\"], function(Plotly) { window.PLOTLYENV=window.PLOTLYENV || {};window.PLOTLYENV.BASE_URL=\"https://plot.ly\";Plotly.newPlot(\"4c1d211b-7bac-46f8-85f2-fe5c91f1d966\", [{\"type\": \"scatter\", \"x\": [60, 61, 62, 63, 64, 65, 66, 67, 68], \"y\": [3026976.3681235686, 857606.5959556773, 1514651.2253397629, 307807.22679243237, 440916.9932025075, 2280468.429240063, 3398237.72282207, 3648065.8495215178, 4513484.670025013], \"name\": \"Net income\", \"yaxis\": \"y1\"}], {\"xaxis\": {\"title\": \"xx\"}, \"yaxis\": {\"title\": \"yy\"}, \"title\": \"Net Income\"}, {\"showLink\": true, \"linkText\": \"Export to plot.ly\"})});</script>"
      ],
      "text/vnd.plotly.v1+html": [
       "<div id=\"4c1d211b-7bac-46f8-85f2-fe5c91f1d966\" style=\"height: 525px; width: 100%;\" class=\"plotly-graph-div\"></div><script type=\"text/javascript\">require([\"plotly\"], function(Plotly) { window.PLOTLYENV=window.PLOTLYENV || {};window.PLOTLYENV.BASE_URL=\"https://plot.ly\";Plotly.newPlot(\"4c1d211b-7bac-46f8-85f2-fe5c91f1d966\", [{\"type\": \"scatter\", \"x\": [60, 61, 62, 63, 64, 65, 66, 67, 68], \"y\": [3026976.3681235686, 857606.5959556773, 1514651.2253397629, 307807.22679243237, 440916.9932025075, 2280468.429240063, 3398237.72282207, 3648065.8495215178, 4513484.670025013], \"name\": \"Net income\", \"yaxis\": \"y1\"}], {\"xaxis\": {\"title\": \"xx\"}, \"yaxis\": {\"title\": \"yy\"}, \"title\": \"Net Income\"}, {\"showLink\": true, \"linkText\": \"Export to plot.ly\"})});</script>"
      ]
     },
     "metadata": {},
     "output_type": "display_data"
    }
   ],
   "source": [
    "\n",
    "d = []\n",
    "# for attr in df_private.index.levels[1].values:\n",
    "# for attr in ['Sales Units Japan P1', 'Sales Rev Japan P1']:\n",
    "# display(df_private.xs(attr, level=1).values)\n",
    "\n",
    "d.append(Scatter(\n",
    "        x=df_private.index.levels[0].values, \n",
    "        y=df_private.xs('Net income', level=1).values.flatten(),\n",
    "        name='Net income',\n",
    "        yaxis='y1'))\n",
    "# d.append(Scatter(\n",
    "#         x=df_private.index.levels[0].values, \n",
    "#         y=df_private.xs('Sales Rev Japan P1', level=1).values.flatten(),\n",
    "#         name='Sales Rev Japan P1',\n",
    "#         yaxis='y2'))\n",
    "\n",
    "data = Data(d)\n",
    "\n",
    "\n",
    "layout=Layout(\n",
    "        xaxis=dict(\n",
    "            title='xx'\n",
    "        ),\n",
    "        yaxis=dict(\n",
    "            title='yy'\n",
    "        ),\n",
    "#         yaxis2=dict(\n",
    "#             title='yy',\n",
    "#             titlefont=dict(\n",
    "#                 color='rgb(148, 103, 189)'\n",
    "#             ),\n",
    "#             tickfont=dict(\n",
    "#                 color='rgb(148, 103, 189)'\n",
    "#             ),\n",
    "#             overlaying='y',\n",
    "#             side='right'\n",
    "#         ),\n",
    "        title= 'Net Income')\n",
    "\n",
    "fig = Figure(data=data, layout=layout)\n",
    "iplot(fig)\n"
   ]
  },
  {
   "cell_type": "markdown",
   "metadata": {
    "collapsed": true
   },
   "source": [
    "<h1>GOAL: Manage Inventory</h1>"
   ]
  },
  {
   "cell_type": "code",
   "execution_count": 5,
   "metadata": {},
   "outputs": [
    {
     "data": {
      "text/plain": [
       "469740.0"
      ]
     },
     "metadata": {},
     "output_type": "display_data"
    },
    {
     "data": {
      "text/plain": [
       "42613.0"
      ]
     },
     "metadata": {},
     "output_type": "display_data"
    },
    {
     "data": {
      "application/vnd.plotly.v1+json": {
       "data": [
        {
         "locationmode": "country names",
         "locations": [
          "China"
         ],
         "marker": {
          "color": "#ff6666",
          "size": 56.928111111111114
         },
         "name": "Inv + Prod",
         "text": 512353,
         "type": "scattergeo"
        },
        {
         "locationmode": "country names",
         "locations": [
          "United States"
         ],
         "marker": {
          "color": "#6666ff",
          "size": 41.691
         },
         "name": "Inv + Prod",
         "text": 375219,
         "type": "scattergeo"
        },
        {
         "locationmode": "country names",
         "locations": [
          "China"
         ],
         "marker": {
          "color": "#dd3333",
          "size": 52.193333333333335
         },
         "name": "Production",
         "text": 469740,
         "type": "scattergeo"
        },
        {
         "locationmode": "country names",
         "locations": [
          "United States"
         ],
         "marker": {
          "color": "#3333dd",
          "size": 52.193333333333335
         },
         "name": "Production",
         "text": 332606,
         "type": "scattergeo"
        },
        {
         "line": {
          "color": "#dd3333",
          "width": 12.122566666666666
         },
         "locationmode": "country names",
         "locations": [
          "China",
          "JAPAN"
         ],
         "mode": "lines",
         "name": "Exports",
         "opacity": 0.5774354715860504,
         "text": 363677,
         "type": "scattergeo"
        },
        {
         "line": {
          "color": "#dd3333",
          "width": 3.7541
         },
         "locationmode": "country names",
         "locations": [
          "China",
          "CHINA"
         ],
         "mode": "lines",
         "name": "Exports",
         "opacity": 1.8646280067126608,
         "text": 112623,
         "type": "scattergeo"
        },
        {
         "line": {
          "color": "#dd3333",
          "width": 25.266666666666666
         },
         "locationmode": "country names",
         "locations": [
          "China",
          "U.S."
         ],
         "mode": "lines",
         "name": "Exports",
         "opacity": 0.2770448548812665,
         "text": 758000,
         "type": "scattergeo"
        },
        {
         "line": {
          "color": "#dd3333",
          "width": 8.007766666666667
         },
         "locationmode": "country names",
         "locations": [
          "China",
          "U.K."
         ],
         "mode": "lines",
         "name": "Exports",
         "opacity": 0.8741513447361519,
         "text": 240233,
         "type": "scattergeo"
        },
        {
         "line": {
          "color": "#dd3333",
          "width": 8.8466
         },
         "locationmode": "country names",
         "locations": [
          "China",
          "Germany"
         ],
         "mode": "lines",
         "name": "Exports",
         "opacity": 0.7912644405760405,
         "text": 265398,
         "type": "scattergeo"
        },
        {
         "line": {
          "color": "#dd3333",
          "width": 5.024333333333334
         },
         "locationmode": "country names",
         "locations": [
          "China",
          "MEXICO"
         ],
         "mode": "lines",
         "name": "Exports",
         "opacity": 1.3932196643004047,
         "text": 150730,
         "type": "scattergeo"
        },
        {
         "line": {
          "color": "#3333dd",
          "width": 11.0579
         },
         "locationmode": "country names",
         "locations": [
          "United States",
          "JAPAN"
         ],
         "mode": "lines",
         "name": "Exports",
         "opacity": 0.6330315882762549,
         "text": 331737,
         "type": "scattergeo"
        },
        {
         "line": {
          "color": "#3333dd",
          "width": 2.4476
         },
         "locationmode": "country names",
         "locations": [
          "United States",
          "CHINA"
         ],
         "mode": "lines",
         "name": "Exports",
         "opacity": 2.859944435365256,
         "text": 73428,
         "type": "scattergeo"
        },
        {
         "line": {
          "color": "#3333dd",
          "width": 26.118366666666667
         },
         "locationmode": "country names",
         "locations": [
          "United States",
          "U.S."
         ],
         "mode": "lines",
         "name": "Exports",
         "opacity": 0.26801063364094996,
         "text": 783551,
         "type": "scattergeo"
        },
        {
         "line": {
          "color": "#3333dd",
          "width": 8.780566666666667
         },
         "locationmode": "country names",
         "locations": [
          "United States",
          "U.K."
         ],
         "mode": "lines",
         "name": "Exports",
         "opacity": 0.7972150620499057,
         "text": 263417,
         "type": "scattergeo"
        },
        {
         "line": {
          "color": "#3333dd",
          "width": 11.1317
         },
         "locationmode": "country names",
         "locations": [
          "United States",
          "Germany"
         ],
         "mode": "lines",
         "name": "Exports",
         "opacity": 0.6288347691727229,
         "text": 333951,
         "type": "scattergeo"
        },
        {
         "line": {
          "color": "#3333dd",
          "width": 1.9195333333333333
         },
         "locationmode": "country names",
         "locations": [
          "United States",
          "MEXICO"
         ],
         "mode": "lines",
         "name": "Exports",
         "opacity": 3.646719688813253,
         "text": 57586,
         "type": "scattergeo"
        }
       ],
       "layout": {
        "geo": {
         "countrycolor": "rgb(204, 204, 204)",
         "landcolor": "rgb(243, 243, 243)",
         "projection": {
          "type": "equirectangular"
         },
         "showland": true
        },
        "showlegend": false,
        "title": "Global Shipping Patterns"
       }
      },
      "text/html": [
       "<div id=\"782df71c-929b-47d9-9742-c75de9384eee\" style=\"height: 525px; width: 100%;\" class=\"plotly-graph-div\"></div><script type=\"text/javascript\">require([\"plotly\"], function(Plotly) { window.PLOTLYENV=window.PLOTLYENV || {};window.PLOTLYENV.BASE_URL=\"https://plot.ly\";Plotly.newPlot(\"782df71c-929b-47d9-9742-c75de9384eee\", [{\"type\": \"scattergeo\", \"locationmode\": \"country names\", \"locations\": [\"China\"], \"text\": 512353.0, \"name\": \"Inv + Prod\", \"marker\": {\"size\": 56.928111111111114, \"color\": \"#ff6666\"}}, {\"type\": \"scattergeo\", \"locationmode\": \"country names\", \"locations\": [\"United States\"], \"text\": 375219.0, \"name\": \"Inv + Prod\", \"marker\": {\"size\": 41.691, \"color\": \"#6666ff\"}}, {\"type\": \"scattergeo\", \"locationmode\": \"country names\", \"locations\": [\"China\"], \"text\": 469740.0, \"name\": \"Production\", \"marker\": {\"size\": 52.193333333333335, \"color\": \"#dd3333\"}}, {\"type\": \"scattergeo\", \"locationmode\": \"country names\", \"locations\": [\"United States\"], \"text\": 332606.0, \"name\": \"Production\", \"marker\": {\"size\": 52.193333333333335, \"color\": \"#3333dd\"}}, {\"type\": \"scattergeo\", \"locationmode\": \"country names\", \"locations\": [\"China\", \"JAPAN\"], \"mode\": \"lines\", \"line\": {\"width\": 12.122566666666666, \"color\": \"#dd3333\"}, \"text\": 363677.0, \"name\": \"Exports\", \"opacity\": 0.5774354715860504}, {\"type\": \"scattergeo\", \"locationmode\": \"country names\", \"locations\": [\"China\", \"CHINA\"], \"mode\": \"lines\", \"line\": {\"width\": 3.7541, \"color\": \"#dd3333\"}, \"text\": 112623.0, \"name\": \"Exports\", \"opacity\": 1.8646280067126608}, {\"type\": \"scattergeo\", \"locationmode\": \"country names\", \"locations\": [\"China\", \"U.S.\"], \"mode\": \"lines\", \"line\": {\"width\": 25.266666666666666, \"color\": \"#dd3333\"}, \"text\": 758000.0, \"name\": \"Exports\", \"opacity\": 0.2770448548812665}, {\"type\": \"scattergeo\", \"locationmode\": \"country names\", \"locations\": [\"China\", \"U.K.\"], \"mode\": \"lines\", \"line\": {\"width\": 8.007766666666667, \"color\": \"#dd3333\"}, \"text\": 240233.0, \"name\": \"Exports\", \"opacity\": 0.8741513447361519}, {\"type\": \"scattergeo\", \"locationmode\": \"country names\", \"locations\": [\"China\", \"Germany\"], \"mode\": \"lines\", \"line\": {\"width\": 8.8466, \"color\": \"#dd3333\"}, \"text\": 265398.0, \"name\": \"Exports\", \"opacity\": 0.7912644405760405}, {\"type\": \"scattergeo\", \"locationmode\": \"country names\", \"locations\": [\"China\", \"MEXICO\"], \"mode\": \"lines\", \"line\": {\"width\": 5.024333333333334, \"color\": \"#dd3333\"}, \"text\": 150730.0, \"name\": \"Exports\", \"opacity\": 1.3932196643004047}, {\"type\": \"scattergeo\", \"locationmode\": \"country names\", \"locations\": [\"United States\", \"JAPAN\"], \"mode\": \"lines\", \"line\": {\"width\": 11.0579, \"color\": \"#3333dd\"}, \"text\": 331737.0, \"name\": \"Exports\", \"opacity\": 0.6330315882762549}, {\"type\": \"scattergeo\", \"locationmode\": \"country names\", \"locations\": [\"United States\", \"CHINA\"], \"mode\": \"lines\", \"line\": {\"width\": 2.4476, \"color\": \"#3333dd\"}, \"text\": 73428.0, \"name\": \"Exports\", \"opacity\": 2.859944435365256}, {\"type\": \"scattergeo\", \"locationmode\": \"country names\", \"locations\": [\"United States\", \"U.S.\"], \"mode\": \"lines\", \"line\": {\"width\": 26.118366666666667, \"color\": \"#3333dd\"}, \"text\": 783551.0, \"name\": \"Exports\", \"opacity\": 0.26801063364094996}, {\"type\": \"scattergeo\", \"locationmode\": \"country names\", \"locations\": [\"United States\", \"U.K.\"], \"mode\": \"lines\", \"line\": {\"width\": 8.780566666666667, \"color\": \"#3333dd\"}, \"text\": 263417.0, \"name\": \"Exports\", \"opacity\": 0.7972150620499057}, {\"type\": \"scattergeo\", \"locationmode\": \"country names\", \"locations\": [\"United States\", \"Germany\"], \"mode\": \"lines\", \"line\": {\"width\": 11.1317, \"color\": \"#3333dd\"}, \"text\": 333951.0, \"name\": \"Exports\", \"opacity\": 0.6288347691727229}, {\"type\": \"scattergeo\", \"locationmode\": \"country names\", \"locations\": [\"United States\", \"MEXICO\"], \"mode\": \"lines\", \"line\": {\"width\": 1.9195333333333333, \"color\": \"#3333dd\"}, \"text\": 57586.0, \"name\": \"Exports\", \"opacity\": 3.646719688813253}], {\"title\": \"Global Shipping Patterns\", \"showlegend\": false, \"geo\": {\"projection\": {\"type\": \"equirectangular\"}, \"showland\": true, \"landcolor\": \"rgb(243, 243, 243)\", \"countrycolor\": \"rgb(204, 204, 204)\"}}, {\"showLink\": true, \"linkText\": \"Export to plot.ly\"})});</script>"
      ],
      "text/vnd.plotly.v1+html": [
       "<div id=\"782df71c-929b-47d9-9742-c75de9384eee\" style=\"height: 525px; width: 100%;\" class=\"plotly-graph-div\"></div><script type=\"text/javascript\">require([\"plotly\"], function(Plotly) { window.PLOTLYENV=window.PLOTLYENV || {};window.PLOTLYENV.BASE_URL=\"https://plot.ly\";Plotly.newPlot(\"782df71c-929b-47d9-9742-c75de9384eee\", [{\"type\": \"scattergeo\", \"locationmode\": \"country names\", \"locations\": [\"China\"], \"text\": 512353.0, \"name\": \"Inv + Prod\", \"marker\": {\"size\": 56.928111111111114, \"color\": \"#ff6666\"}}, {\"type\": \"scattergeo\", \"locationmode\": \"country names\", \"locations\": [\"United States\"], \"text\": 375219.0, \"name\": \"Inv + Prod\", \"marker\": {\"size\": 41.691, \"color\": \"#6666ff\"}}, {\"type\": \"scattergeo\", \"locationmode\": \"country names\", \"locations\": [\"China\"], \"text\": 469740.0, \"name\": \"Production\", \"marker\": {\"size\": 52.193333333333335, \"color\": \"#dd3333\"}}, {\"type\": \"scattergeo\", \"locationmode\": \"country names\", \"locations\": [\"United States\"], \"text\": 332606.0, \"name\": \"Production\", \"marker\": {\"size\": 52.193333333333335, \"color\": \"#3333dd\"}}, {\"type\": \"scattergeo\", \"locationmode\": \"country names\", \"locations\": [\"China\", \"JAPAN\"], \"mode\": \"lines\", \"line\": {\"width\": 12.122566666666666, \"color\": \"#dd3333\"}, \"text\": 363677.0, \"name\": \"Exports\", \"opacity\": 0.5774354715860504}, {\"type\": \"scattergeo\", \"locationmode\": \"country names\", \"locations\": [\"China\", \"CHINA\"], \"mode\": \"lines\", \"line\": {\"width\": 3.7541, \"color\": \"#dd3333\"}, \"text\": 112623.0, \"name\": \"Exports\", \"opacity\": 1.8646280067126608}, {\"type\": \"scattergeo\", \"locationmode\": \"country names\", \"locations\": [\"China\", \"U.S.\"], \"mode\": \"lines\", \"line\": {\"width\": 25.266666666666666, \"color\": \"#dd3333\"}, \"text\": 758000.0, \"name\": \"Exports\", \"opacity\": 0.2770448548812665}, {\"type\": \"scattergeo\", \"locationmode\": \"country names\", \"locations\": [\"China\", \"U.K.\"], \"mode\": \"lines\", \"line\": {\"width\": 8.007766666666667, \"color\": \"#dd3333\"}, \"text\": 240233.0, \"name\": \"Exports\", \"opacity\": 0.8741513447361519}, {\"type\": \"scattergeo\", \"locationmode\": \"country names\", \"locations\": [\"China\", \"Germany\"], \"mode\": \"lines\", \"line\": {\"width\": 8.8466, \"color\": \"#dd3333\"}, \"text\": 265398.0, \"name\": \"Exports\", \"opacity\": 0.7912644405760405}, {\"type\": \"scattergeo\", \"locationmode\": \"country names\", \"locations\": [\"China\", \"MEXICO\"], \"mode\": \"lines\", \"line\": {\"width\": 5.024333333333334, \"color\": \"#dd3333\"}, \"text\": 150730.0, \"name\": \"Exports\", \"opacity\": 1.3932196643004047}, {\"type\": \"scattergeo\", \"locationmode\": \"country names\", \"locations\": [\"United States\", \"JAPAN\"], \"mode\": \"lines\", \"line\": {\"width\": 11.0579, \"color\": \"#3333dd\"}, \"text\": 331737.0, \"name\": \"Exports\", \"opacity\": 0.6330315882762549}, {\"type\": \"scattergeo\", \"locationmode\": \"country names\", \"locations\": [\"United States\", \"CHINA\"], \"mode\": \"lines\", \"line\": {\"width\": 2.4476, \"color\": \"#3333dd\"}, \"text\": 73428.0, \"name\": \"Exports\", \"opacity\": 2.859944435365256}, {\"type\": \"scattergeo\", \"locationmode\": \"country names\", \"locations\": [\"United States\", \"U.S.\"], \"mode\": \"lines\", \"line\": {\"width\": 26.118366666666667, \"color\": \"#3333dd\"}, \"text\": 783551.0, \"name\": \"Exports\", \"opacity\": 0.26801063364094996}, {\"type\": \"scattergeo\", \"locationmode\": \"country names\", \"locations\": [\"United States\", \"U.K.\"], \"mode\": \"lines\", \"line\": {\"width\": 8.780566666666667, \"color\": \"#3333dd\"}, \"text\": 263417.0, \"name\": \"Exports\", \"opacity\": 0.7972150620499057}, {\"type\": \"scattergeo\", \"locationmode\": \"country names\", \"locations\": [\"United States\", \"Germany\"], \"mode\": \"lines\", \"line\": {\"width\": 11.1317, \"color\": \"#3333dd\"}, \"text\": 333951.0, \"name\": \"Exports\", \"opacity\": 0.6288347691727229}, {\"type\": \"scattergeo\", \"locationmode\": \"country names\", \"locations\": [\"United States\", \"MEXICO\"], \"mode\": \"lines\", \"line\": {\"width\": 1.9195333333333333, \"color\": \"#3333dd\"}, \"text\": 57586.0, \"name\": \"Exports\", \"opacity\": 3.646719688813253}], {\"title\": \"Global Shipping Patterns\", \"showlegend\": false, \"geo\": {\"projection\": {\"type\": \"equirectangular\"}, \"showland\": true, \"landcolor\": \"rgb(243, 243, 243)\", \"countrycolor\": \"rgb(204, 204, 204)\"}}, {\"showLink\": true, \"linkText\": \"Export to plot.ly\"})});</script>"
      ]
     },
     "metadata": {},
     "output_type": "display_data"
    }
   ],
   "source": [
    "# total production per product\n",
    "# total sales units per product\n",
    "\n",
    "line_factor=30000\n",
    "circle_factor=9000\n",
    "opacity_factory=7\n",
    "d=[]\n",
    "\n",
    "lookback=-1\n",
    "f=df_private.xs('Production Qty Actual P1', level=1).values.flatten()[lookback]\n",
    "fi=df_private.xs('Inventory Current Qty P1', level=1).values.flatten()[lookback]\n",
    "g=df_private.xs('Production Qty Actual P2', level=1).values.flatten()[lookback]\n",
    "gi=df_private.xs('Inventory Current Qty P1', level=1).values.flatten()[lookback]\n",
    "display(f)\n",
    "display(fi)\n",
    "\n",
    "########### CHINA INVENTORY\n",
    "d.append(go.Scattergeo(\n",
    "        locationmode = 'country names',\n",
    "        locations=[\"China\"],\n",
    "        text = fi+f,\n",
    "        name = \"Inv + Prod\",\n",
    "        marker = dict(\n",
    "            size = (f+fi)/circle_factor,\n",
    "            color = '#ff6666'#,\n",
    "#             line = dict(width = 0)\n",
    "        ),\n",
    "    ) )\n",
    "\n",
    "########### US INVENTORY\n",
    "d.append(go.Scattergeo(\n",
    "        locationmode = 'country names',\n",
    "        locations=[\"United States\"],\n",
    "        text = gi+g,\n",
    "        name = \"Inv + Prod\",\n",
    "        marker = dict(\n",
    "            size = (g+gi)/circle_factor,\n",
    "            color = '#6666ff'#,\n",
    "#             line = dict(width = 0)\n",
    "        ),\n",
    "    ) )\n",
    "\n",
    "########### CHINA PRODUCTION\n",
    "d.append(go.Scattergeo(\n",
    "        locationmode = 'country names',\n",
    "        locations=[\"China\"],\n",
    "        text = f,\n",
    "        name = \"Production\",\n",
    "        marker = dict(\n",
    "            size = f/circle_factor,\n",
    "            color = '#dd3333'#,\n",
    "#             line = dict(width = 0)\n",
    "        ),\n",
    "    ) )\n",
    "\n",
    "########### US PRODUCTION\n",
    "d.append(go.Scattergeo(\n",
    "        locationmode = 'country names',\n",
    "        locations=[\"United States\"],\n",
    "        text = g,\n",
    "        name = \"Production\",\n",
    "        marker = dict(\n",
    "            size = f/circle_factor,\n",
    "            color = '#3333dd'#,\n",
    "#             line = dict(width = 0)\n",
    "        ),\n",
    "    ) )\n",
    "\n",
    "########## CHINA EXPORTS\n",
    "for country in ['JAPAN', 'CHINA', 'U.S.', 'U.K.', 'GERMAN', 'MEXICO']:\n",
    "    pt = df_public_countries.pivot_table(index='period', columns='Attribute', values=country)\n",
    "    c= country if country != \"GERMAN\" else \"Germany\"    \n",
    "# df_public_countries['JAPAN'].xs(['Demand - Units P1']['61']\n",
    "    a=pt[\"Demand - Units P1\"].values[-1]\n",
    "    d.append( dict(\n",
    "        type = 'scattergeo',\n",
    "            locationmode = 'country names',\n",
    "            locations = [\"China\", c],\n",
    "        mode = 'lines',\n",
    "        line = dict(\n",
    "            width = a/line_factor,\n",
    "            color = '#dd3333'\n",
    "        ),\n",
    "        text=a,\n",
    "        name='Exports',\n",
    "        opacity = 1/(a/line_factor/opacity_factory)\n",
    "    ) )\n",
    "    \n",
    "########## US EXPORTS    \n",
    "for country in ['JAPAN', 'CHINA', 'U.S.', 'U.K.', 'GERMAN', 'MEXICO']:\n",
    "    pt = df_public_countries.pivot_table(index='period', columns='Attribute', values=country)\n",
    "    c= country if country != \"GERMAN\" else \"Germany\"    \n",
    "\n",
    "    a=pt[\"Demand - Units P2\"].values[-1]\n",
    "    d.append( dict(\n",
    "        type = 'scattergeo',\n",
    "            locationmode = 'country names',\n",
    "            locations = [\"United States\", c],\n",
    "        mode = 'lines',\n",
    "        line = dict(\n",
    "            width = a/line_factor,\n",
    "            color = '#3333dd'\n",
    "        ),\n",
    "        text=a,\n",
    "        name='Exports',\n",
    "        opacity = 1/(a/line_factor/opacity_factory)\n",
    "    ) )\n",
    "    \n",
    "layout = dict(\n",
    "        title = 'Global Shipping Patterns',\n",
    "        showlegend = False, \n",
    "        geo = dict(\n",
    "            projection=dict( type='equirectangular' ),\n",
    "#             type ( enumerated : \"equirectangular\" | \"mercator\" | $$$$\"orthographic\" | \"natural earth\" | \"kavrayskiy7\" | \"miller\" | \"robinson\" | \"eckert4\" | \"azimuthal equal area\" | \"azimuthal equidistant\" | \"conic equal area\" | \"conic conformal\" | \"conic equidistant\" | \"gnomonic\" | \"stereographic\" | \"mollweide\" | \"hammer\" | \"transverse mercator\" | \"albers usa\" | \"winkel tripel\" | \"aitoff\" | \"sinusoidal\"\n",
    "            showland = True,\n",
    "            landcolor = 'rgb(243, 243, 243)',\n",
    "            countrycolor = 'rgb(204, 204, 204)',\n",
    "        ),\n",
    ")\n",
    "    \n",
    "fig = dict( data=d, layout=layout )\n",
    "iplot( fig )"
   ]
  },
  {
   "cell_type": "markdown",
   "metadata": {},
   "source": [
    "<h1>GOAL: What will demand be for a product? What will production + inventory be?</h1>"
   ]
  },
  {
   "cell_type": "code",
   "execution_count": 6,
   "metadata": {
    "scrolled": false
   },
   "outputs": [
    {
     "data": {
      "application/vnd.plotly.v1+json": {
       "data": [
        {
         "name": "Demand Units",
         "opacity": 0.2,
         "type": "bar",
         "x": [
          "JAPAN",
          "CHINA",
          "U.S.",
          "U.K.",
          "GERMAN",
          "MEXICO"
         ],
         "y": [
          363677,
          112623,
          758000,
          240233,
          265398,
          150730
         ]
        }
       ],
       "layout": {
        "title": "Global Demand Product 1",
        "xaxis": {
         "title": "Country"
        },
        "yaxis": {
         "title": "Units Demanded Product1"
        }
       }
      },
      "text/html": [
       "<div id=\"2cc085c5-9571-4065-acba-031ddce1de56\" style=\"height: 525px; width: 100%;\" class=\"plotly-graph-div\"></div><script type=\"text/javascript\">require([\"plotly\"], function(Plotly) { window.PLOTLYENV=window.PLOTLYENV || {};window.PLOTLYENV.BASE_URL=\"https://plot.ly\";Plotly.newPlot(\"2cc085c5-9571-4065-acba-031ddce1de56\", [{\"type\": \"bar\", \"x\": [\"JAPAN\", \"CHINA\", \"U.S.\", \"U.K.\", \"GERMAN\", \"MEXICO\"], \"y\": [363677.0, 112623.0, 758000.0, 240233.0, 265398.0, 150730.0], \"name\": \"Demand Units\", \"opacity\": 0.2}], {\"xaxis\": {\"title\": \"Country\"}, \"yaxis\": {\"title\": \"Units Demanded Product1\"}, \"title\": \"Global Demand Product 1\"}, {\"showLink\": true, \"linkText\": \"Export to plot.ly\"})});</script>"
      ],
      "text/vnd.plotly.v1+html": [
       "<div id=\"2cc085c5-9571-4065-acba-031ddce1de56\" style=\"height: 525px; width: 100%;\" class=\"plotly-graph-div\"></div><script type=\"text/javascript\">require([\"plotly\"], function(Plotly) { window.PLOTLYENV=window.PLOTLYENV || {};window.PLOTLYENV.BASE_URL=\"https://plot.ly\";Plotly.newPlot(\"2cc085c5-9571-4065-acba-031ddce1de56\", [{\"type\": \"bar\", \"x\": [\"JAPAN\", \"CHINA\", \"U.S.\", \"U.K.\", \"GERMAN\", \"MEXICO\"], \"y\": [363677.0, 112623.0, 758000.0, 240233.0, 265398.0, 150730.0], \"name\": \"Demand Units\", \"opacity\": 0.2}], {\"xaxis\": {\"title\": \"Country\"}, \"yaxis\": {\"title\": \"Units Demanded Product1\"}, \"title\": \"Global Demand Product 1\"}, {\"showLink\": true, \"linkText\": \"Export to plot.ly\"})});</script>"
      ]
     },
     "metadata": {},
     "output_type": "display_data"
    },
    {
     "data": {
      "application/vnd.plotly.v1+json": {
       "data": [
        {
         "name": "Demand Units",
         "opacity": 0.2,
         "type": "bar",
         "x": [
          "JAPAN",
          "CHINA",
          "U.S.",
          "U.K.",
          "GERMAN",
          "MEXICO"
         ],
         "y": [
          72201,
          19207,
          174978,
          38807,
          41779,
          13784
         ]
        },
        {
         "name": "Market Share",
         "type": "scatter",
         "x": [
          "JAPAN",
          "CHINA",
          "U.S.",
          "U.K.",
          "GERMAN",
          "MEXICO"
         ],
         "y": [
          0.1985305642094496,
          0.1705424291663337,
          0.23084168865435356,
          0.16153900588178977,
          0.1574201764896495,
          0.09144828501293704
         ],
         "yaxis": "y2"
        },
        {
         "name": "Equal Market Share for 5 Companies",
         "type": "scatter",
         "x": [
          "JAPAN",
          "CHINA",
          "U.S.",
          "U.K.",
          "GERMAN",
          "MEXICO"
         ],
         "y": [
          0.2,
          0.2,
          0.2,
          0.2,
          0.2,
          0.2
         ],
         "yaxis": "y2"
        }
       ],
       "layout": {
        "title": "Our Demand Product 1",
        "xaxis": {
         "title": "Country"
        },
        "yaxis": {
         "title": "Units Demanded"
        },
        "yaxis2": {
         "overlaying": "y",
         "side": "right",
         "title": "Market Share"
        }
       }
      },
      "text/html": [
       "<div id=\"92a97793-1593-4de8-94db-865ba63a204d\" style=\"height: 525px; width: 100%;\" class=\"plotly-graph-div\"></div><script type=\"text/javascript\">require([\"plotly\"], function(Plotly) { window.PLOTLYENV=window.PLOTLYENV || {};window.PLOTLYENV.BASE_URL=\"https://plot.ly\";Plotly.newPlot(\"92a97793-1593-4de8-94db-865ba63a204d\", [{\"type\": \"bar\", \"x\": [\"JAPAN\", \"CHINA\", \"U.S.\", \"U.K.\", \"GERMAN\", \"MEXICO\"], \"y\": [72201.0, 19207.0, 174978.0, 38807.0, 41779.0, 13784.0], \"name\": \"Demand Units\", \"opacity\": 0.2}, {\"type\": \"scatter\", \"x\": [\"JAPAN\", \"CHINA\", \"U.S.\", \"U.K.\", \"GERMAN\", \"MEXICO\"], \"y\": [0.1985305642094496, 0.1705424291663337, 0.23084168865435356, 0.16153900588178977, 0.1574201764896495, 0.09144828501293704], \"name\": \"Market Share\", \"yaxis\": \"y2\"}, {\"type\": \"scatter\", \"x\": [\"JAPAN\", \"CHINA\", \"U.S.\", \"U.K.\", \"GERMAN\", \"MEXICO\"], \"y\": [0.2, 0.2, 0.2, 0.2, 0.2, 0.2], \"name\": \"Equal Market Share for 5 Companies\", \"yaxis\": \"y2\"}], {\"xaxis\": {\"title\": \"Country\"}, \"yaxis\": {\"title\": \"Units Demanded\"}, \"yaxis2\": {\"overlaying\": \"y\", \"side\": \"right\", \"title\": \"Market Share\"}, \"title\": \"Our Demand Product 1\"}, {\"showLink\": true, \"linkText\": \"Export to plot.ly\"})});</script>"
      ],
      "text/vnd.plotly.v1+html": [
       "<div id=\"92a97793-1593-4de8-94db-865ba63a204d\" style=\"height: 525px; width: 100%;\" class=\"plotly-graph-div\"></div><script type=\"text/javascript\">require([\"plotly\"], function(Plotly) { window.PLOTLYENV=window.PLOTLYENV || {};window.PLOTLYENV.BASE_URL=\"https://plot.ly\";Plotly.newPlot(\"92a97793-1593-4de8-94db-865ba63a204d\", [{\"type\": \"bar\", \"x\": [\"JAPAN\", \"CHINA\", \"U.S.\", \"U.K.\", \"GERMAN\", \"MEXICO\"], \"y\": [72201.0, 19207.0, 174978.0, 38807.0, 41779.0, 13784.0], \"name\": \"Demand Units\", \"opacity\": 0.2}, {\"type\": \"scatter\", \"x\": [\"JAPAN\", \"CHINA\", \"U.S.\", \"U.K.\", \"GERMAN\", \"MEXICO\"], \"y\": [0.1985305642094496, 0.1705424291663337, 0.23084168865435356, 0.16153900588178977, 0.1574201764896495, 0.09144828501293704], \"name\": \"Market Share\", \"yaxis\": \"y2\"}, {\"type\": \"scatter\", \"x\": [\"JAPAN\", \"CHINA\", \"U.S.\", \"U.K.\", \"GERMAN\", \"MEXICO\"], \"y\": [0.2, 0.2, 0.2, 0.2, 0.2, 0.2], \"name\": \"Equal Market Share for 5 Companies\", \"yaxis\": \"y2\"}], {\"xaxis\": {\"title\": \"Country\"}, \"yaxis\": {\"title\": \"Units Demanded\"}, \"yaxis2\": {\"overlaying\": \"y\", \"side\": \"right\", \"title\": \"Market Share\"}, \"title\": \"Our Demand Product 1\"}, {\"showLink\": true, \"linkText\": \"Export to plot.ly\"})});</script>"
      ]
     },
     "metadata": {},
     "output_type": "display_data"
    },
    {
     "data": {
      "application/vnd.plotly.v1+json": {
       "data": [
        {
         "name": "Demand Units",
         "opacity": 0.2,
         "type": "bar",
         "x": [
          "JAPAN",
          "CHINA",
          "U.S.",
          "U.K.",
          "GERMAN",
          "MEXICO"
         ],
         "y": [
          331737,
          73428,
          783551,
          263417,
          333951,
          57586
         ]
        }
       ],
       "layout": {
        "title": "Global Demand Product 2",
        "xaxis": {
         "title": "Country"
        },
        "yaxis": {
         "title": "Units Demanded Product2"
        }
       }
      },
      "text/html": [
       "<div id=\"96faf2c4-4eba-4eaf-abf7-45cac7d559b9\" style=\"height: 525px; width: 100%;\" class=\"plotly-graph-div\"></div><script type=\"text/javascript\">require([\"plotly\"], function(Plotly) { window.PLOTLYENV=window.PLOTLYENV || {};window.PLOTLYENV.BASE_URL=\"https://plot.ly\";Plotly.newPlot(\"96faf2c4-4eba-4eaf-abf7-45cac7d559b9\", [{\"type\": \"bar\", \"x\": [\"JAPAN\", \"CHINA\", \"U.S.\", \"U.K.\", \"GERMAN\", \"MEXICO\"], \"y\": [331737.0, 73428.0, 783551.0, 263417.0, 333951.0, 57586.0], \"name\": \"Demand Units\", \"opacity\": 0.2}], {\"xaxis\": {\"title\": \"Country\"}, \"yaxis\": {\"title\": \"Units Demanded Product2\"}, \"title\": \"Global Demand Product 2\"}, {\"showLink\": true, \"linkText\": \"Export to plot.ly\"})});</script>"
      ],
      "text/vnd.plotly.v1+html": [
       "<div id=\"96faf2c4-4eba-4eaf-abf7-45cac7d559b9\" style=\"height: 525px; width: 100%;\" class=\"plotly-graph-div\"></div><script type=\"text/javascript\">require([\"plotly\"], function(Plotly) { window.PLOTLYENV=window.PLOTLYENV || {};window.PLOTLYENV.BASE_URL=\"https://plot.ly\";Plotly.newPlot(\"96faf2c4-4eba-4eaf-abf7-45cac7d559b9\", [{\"type\": \"bar\", \"x\": [\"JAPAN\", \"CHINA\", \"U.S.\", \"U.K.\", \"GERMAN\", \"MEXICO\"], \"y\": [331737.0, 73428.0, 783551.0, 263417.0, 333951.0, 57586.0], \"name\": \"Demand Units\", \"opacity\": 0.2}], {\"xaxis\": {\"title\": \"Country\"}, \"yaxis\": {\"title\": \"Units Demanded Product2\"}, \"title\": \"Global Demand Product 2\"}, {\"showLink\": true, \"linkText\": \"Export to plot.ly\"})});</script>"
      ]
     },
     "metadata": {},
     "output_type": "display_data"
    },
    {
     "data": {
      "application/vnd.plotly.v1+json": {
       "data": [
        {
         "name": "Demand Units",
         "opacity": 0.2,
         "type": "bar",
         "x": [
          "JAPAN",
          "CHINA",
          "U.S.",
          "U.K.",
          "GERMAN",
          "MEXICO"
         ],
         "y": [
          74963,
          5867,
          193941,
          51849,
          38456,
          4983
         ]
        },
        {
         "name": "Market Share",
         "type": "scatter",
         "x": [
          "JAPAN",
          "CHINA",
          "U.S.",
          "U.K.",
          "GERMAN",
          "MEXICO"
         ],
         "y": [
          0.22597117596168048,
          0.07990140001089503,
          0.24751547761409276,
          0.1968323988201217,
          0.11515461849193445,
          0.08653144861598305
         ],
         "yaxis": "y2"
        },
        {
         "name": "Equal Market Share for 5 Companies",
         "type": "scatter",
         "x": [
          "JAPAN",
          "CHINA",
          "U.S.",
          "U.K.",
          "GERMAN",
          "MEXICO"
         ],
         "y": [
          0.2,
          0.2,
          0.2,
          0.2,
          0.2,
          0.2
         ],
         "yaxis": "y2"
        }
       ],
       "layout": {
        "title": "Our Demand Product 2",
        "xaxis": {
         "title": "Country"
        },
        "yaxis": {
         "title": "Units Demanded"
        },
        "yaxis2": {
         "overlaying": "y",
         "side": "right",
         "title": "Market Share"
        }
       }
      },
      "text/html": [
       "<div id=\"b4df5900-c46e-44fc-8ad8-bcad5508710f\" style=\"height: 525px; width: 100%;\" class=\"plotly-graph-div\"></div><script type=\"text/javascript\">require([\"plotly\"], function(Plotly) { window.PLOTLYENV=window.PLOTLYENV || {};window.PLOTLYENV.BASE_URL=\"https://plot.ly\";Plotly.newPlot(\"b4df5900-c46e-44fc-8ad8-bcad5508710f\", [{\"type\": \"bar\", \"x\": [\"JAPAN\", \"CHINA\", \"U.S.\", \"U.K.\", \"GERMAN\", \"MEXICO\"], \"y\": [74963.0, 5867.0, 193941.0, 51849.0, 38456.0, 4983.0], \"name\": \"Demand Units\", \"opacity\": 0.2}, {\"type\": \"scatter\", \"x\": [\"JAPAN\", \"CHINA\", \"U.S.\", \"U.K.\", \"GERMAN\", \"MEXICO\"], \"y\": [0.22597117596168048, 0.07990140001089503, 0.24751547761409276, 0.1968323988201217, 0.11515461849193445, 0.08653144861598305], \"name\": \"Market Share\", \"yaxis\": \"y2\"}, {\"type\": \"scatter\", \"x\": [\"JAPAN\", \"CHINA\", \"U.S.\", \"U.K.\", \"GERMAN\", \"MEXICO\"], \"y\": [0.2, 0.2, 0.2, 0.2, 0.2, 0.2], \"name\": \"Equal Market Share for 5 Companies\", \"yaxis\": \"y2\"}], {\"xaxis\": {\"title\": \"Country\"}, \"yaxis\": {\"title\": \"Units Demanded\"}, \"yaxis2\": {\"overlaying\": \"y\", \"side\": \"right\", \"title\": \"Market Share\"}, \"title\": \"Our Demand Product 2\"}, {\"showLink\": true, \"linkText\": \"Export to plot.ly\"})});</script>"
      ],
      "text/vnd.plotly.v1+html": [
       "<div id=\"b4df5900-c46e-44fc-8ad8-bcad5508710f\" style=\"height: 525px; width: 100%;\" class=\"plotly-graph-div\"></div><script type=\"text/javascript\">require([\"plotly\"], function(Plotly) { window.PLOTLYENV=window.PLOTLYENV || {};window.PLOTLYENV.BASE_URL=\"https://plot.ly\";Plotly.newPlot(\"b4df5900-c46e-44fc-8ad8-bcad5508710f\", [{\"type\": \"bar\", \"x\": [\"JAPAN\", \"CHINA\", \"U.S.\", \"U.K.\", \"GERMAN\", \"MEXICO\"], \"y\": [74963.0, 5867.0, 193941.0, 51849.0, 38456.0, 4983.0], \"name\": \"Demand Units\", \"opacity\": 0.2}, {\"type\": \"scatter\", \"x\": [\"JAPAN\", \"CHINA\", \"U.S.\", \"U.K.\", \"GERMAN\", \"MEXICO\"], \"y\": [0.22597117596168048, 0.07990140001089503, 0.24751547761409276, 0.1968323988201217, 0.11515461849193445, 0.08653144861598305], \"name\": \"Market Share\", \"yaxis\": \"y2\"}, {\"type\": \"scatter\", \"x\": [\"JAPAN\", \"CHINA\", \"U.S.\", \"U.K.\", \"GERMAN\", \"MEXICO\"], \"y\": [0.2, 0.2, 0.2, 0.2, 0.2, 0.2], \"name\": \"Equal Market Share for 5 Companies\", \"yaxis\": \"y2\"}], {\"xaxis\": {\"title\": \"Country\"}, \"yaxis\": {\"title\": \"Units Demanded\"}, \"yaxis2\": {\"overlaying\": \"y\", \"side\": \"right\", \"title\": \"Market Share\"}, \"title\": \"Our Demand Product 2\"}, {\"showLink\": true, \"linkText\": \"Export to plot.ly\"})});</script>"
      ]
     },
     "metadata": {},
     "output_type": "display_data"
    }
   ],
   "source": [
    "import re\n",
    "# What is demand currently?\n",
    "\n",
    "\n",
    "lookback=-1\n",
    "countries = ['JAPAN', 'CHINA', 'U.S.', 'U.K.', 'GERMAN', 'MEXICO']\n",
    "for prod in [1,2]:\n",
    "    d=[]\n",
    "    a=[]\n",
    "    for country in countries:\n",
    "        pt = df_public_countries.pivot_table(index='period', columns='Attribute', values=country)\n",
    "\n",
    "        a.append(pt[\"Demand - Units P\"+str(prod)].values[-1])\n",
    "    #     display(str(country) +\": \" + str(a))\n",
    "    d.append(Bar(\n",
    "        x=countries, \n",
    "        y=a,\n",
    "        name='Demand Units',\n",
    "    #         yaxis='y2',\n",
    "        opacity=0.2))\n",
    "\n",
    "\n",
    "    layout=Layout(\n",
    "            xaxis=dict(\n",
    "                title='Country'\n",
    "            ),\n",
    "            yaxis=dict(\n",
    "                title='Units Demanded Product' + str(prod)\n",
    "            ),\n",
    "            title= 'Global Demand Product ' + str(prod))\n",
    "    fig = dict( data=d, layout=layout )\n",
    "    iplot( fig )\n",
    "    \n",
    "    # second graph\n",
    "    d=[]\n",
    "    b=[]\n",
    "    for country in countries:\n",
    "        b.append(df_private.xs('Demand  Units '+re.sub(r'[^\\w\\s]','',country.title())+' P'+str(prod), level=1).values.flatten()[lookback])\n",
    "#     print(b)\n",
    "    d.append(Bar(\n",
    "        x=countries, \n",
    "        y=b,\n",
    "        name='Demand Units',\n",
    "        opacity=0.2))\n",
    "\n",
    "    d.append(Scatter(\n",
    "            x=countries, \n",
    "            y=[int(b) / int(a) for b,a in zip(b, a)],\n",
    "            name='Market Share',\n",
    "            yaxis='y2')) \n",
    "    \n",
    "    d.append(Scatter(\n",
    "            x=countries, \n",
    "            y=[.2,.2,.2,.2,.2,.2],\n",
    "            name='Equal Market Share for 5 Companies',\n",
    "            yaxis='y2')) \n",
    "\n",
    "    layout=Layout(\n",
    "            xaxis=dict(\n",
    "                title='Country'\n",
    "            ),\n",
    "            yaxis=dict(\n",
    "                title='Units Demanded'\n",
    "            ),\n",
    "            yaxis2=dict(\n",
    "                overlaying='y',\n",
    "                side='right',\n",
    "                title='Market Share'\n",
    "            ),\n",
    "            title= 'Our Demand Product '+str(prod))\n",
    "    fig = dict( data=d, layout=layout )\n",
    "    iplot( fig )\n",
    "\n"
   ]
  },
  {
   "cell_type": "code",
   "execution_count": 63,
   "metadata": {},
   "outputs": [
    {
     "data": {
      "application/vnd.plotly.v1+json": {
       "data": [
        {
         "x": [
          0,
          1
         ],
         "y": [
          0,
          1
         ]
        }
       ],
       "frames": [
        {
         "data": [
          {
           "x": [
            1,
            2
           ],
           "y": [
            1,
            2
           ]
          }
         ]
        },
        {
         "data": [
          {
           "x": [
            1,
            4
           ],
           "y": [
            1,
            4
           ]
          }
         ]
        },
        {
         "data": [
          {
           "x": [
            3,
            4
           ],
           "y": [
            3,
            4
           ]
          }
         ],
         "layout": {}
        }
       ],
       "layout": {
        "title": "Start Title",
        "updatemenus": [
         {
          "buttons": [
           {
            "args": [
             null
            ],
            "label": "Play",
            "method": "animate"
           }
          ],
          "type": "buttons"
         }
        ],
        "xaxis": {
         "autorange": false,
         "range": [
          0,
          5
         ]
        },
        "yaxis": {
         "autorange": false,
         "range": [
          0,
          5
         ]
        }
       }
      },
      "text/html": [
       "<div id=\"66728f3f-016e-4765-b179-a2145ff56fc5\" style=\"height: 525px; width: 100%;\" class=\"plotly-graph-div\"></div><script type=\"text/javascript\">require([\"plotly\"], function(Plotly) { window.PLOTLYENV=window.PLOTLYENV || {};window.PLOTLYENV.BASE_URL=\"https://plot.ly\";\n",
       "        Plotly.plot(\n",
       "            '66728f3f-016e-4765-b179-a2145ff56fc5',\n",
       "            [{\"x\": [0, 1], \"y\": [0, 1]}],\n",
       "            {\"xaxis\": {\"range\": [0, 5], \"autorange\": false}, \"yaxis\": {\"range\": [0, 5], \"autorange\": false}, \"title\": \"Start Title\", \"updatemenus\": [{\"type\": \"buttons\", \"buttons\": [{\"label\": \"Play\", \"method\": \"animate\", \"args\": [null]}]}]},\n",
       "            {\"showLink\": true, \"linkText\": \"Export to plot.ly\"}\n",
       "        ).then(function () {return Plotly.addFrames('66728f3f-016e-4765-b179-a2145ff56fc5',[{\"data\": [{\"x\": [1, 2], \"y\": [1, 2]}]}, {\"data\": [{\"x\": [1, 4], \"y\": [1, 4]}]}, {\"data\": [{\"x\": [3, 4], \"y\": [3, 4]}], \"layout\": {}}]);}).then(function(){Plotly.animate('66728f3f-016e-4765-b179-a2145ff56fc5');})\n",
       "        });</script>"
      ],
      "text/vnd.plotly.v1+html": [
       "<div id=\"66728f3f-016e-4765-b179-a2145ff56fc5\" style=\"height: 525px; width: 100%;\" class=\"plotly-graph-div\"></div><script type=\"text/javascript\">require([\"plotly\"], function(Plotly) { window.PLOTLYENV=window.PLOTLYENV || {};window.PLOTLYENV.BASE_URL=\"https://plot.ly\";\n",
       "        Plotly.plot(\n",
       "            '66728f3f-016e-4765-b179-a2145ff56fc5',\n",
       "            [{\"x\": [0, 1], \"y\": [0, 1]}],\n",
       "            {\"xaxis\": {\"range\": [0, 5], \"autorange\": false}, \"yaxis\": {\"range\": [0, 5], \"autorange\": false}, \"title\": \"Start Title\", \"updatemenus\": [{\"type\": \"buttons\", \"buttons\": [{\"label\": \"Play\", \"method\": \"animate\", \"args\": [null]}]}]},\n",
       "            {\"showLink\": true, \"linkText\": \"Export to plot.ly\"}\n",
       "        ).then(function () {return Plotly.addFrames('66728f3f-016e-4765-b179-a2145ff56fc5',[{\"data\": [{\"x\": [1, 2], \"y\": [1, 2]}]}, {\"data\": [{\"x\": [1, 4], \"y\": [1, 4]}]}, {\"data\": [{\"x\": [3, 4], \"y\": [3, 4]}], \"layout\": {}}]);}).then(function(){Plotly.animate('66728f3f-016e-4765-b179-a2145ff56fc5');})\n",
       "        });</script>"
      ]
     },
     "metadata": {},
     "output_type": "display_data"
    }
   ],
   "source": [
    "\n",
    "for country in ['JAPAN', 'CHINA', 'U.S.', 'U.K.', 'GERMAN', 'MEXICO']:\n",
    "    pt = df_public_countries.pivot_table(index='period', columns='Attribute', values=country)\n",
    "\n",
    "    a=pt[\"Demand - Units P2\"].values[-1]\n",
    "    Bar(\n",
    "        x=df_private.index.levels[0].values, \n",
    "        y=df_private.xs('Research & Development', level=1).values.flatten(),\n",
    "        name='Research & Development',\n",
    "        yaxis='y2',\n",
    "        opacity=0.2)\n",
    "    \n",
    "figure = {'data': [{'x': [0, 1], 'y': [0, 1]}],\n",
    "          'layout': {'xaxis': {'range': [0, 5], 'autorange': False},\n",
    "                     'yaxis': {'range': [0, 5], 'autorange': False},\n",
    "                     'title': 'Start Title',\n",
    "                     'updatemenus': [{'type': 'buttons',\n",
    "                                      'buttons': [{'label': 'Play',\n",
    "                                                   'method': 'animate',\n",
    "                                                   'args': [None]}]}]\n",
    "                    },\n",
    "          'frames': [{'data': [{'x': [1, 2], 'y': [1, 2]}]},\n",
    "                     {'data': [{'x': [1, 4], 'y': [1, 4]}]},\n",
    "                     {'data': [{'x': [3, 4], 'y': [3, 4]}],\n",
    "                      'layout': {}}]}\n",
    "\n",
    "iplot(figure)"
   ]
  },
  {
   "cell_type": "code",
   "execution_count": 64,
   "metadata": {},
   "outputs": [
    {
     "data": {
      "application/vnd.plotly.v1+json": {
       "data": [
        {
         "name": "Level of Equity",
         "opacity": 0.2,
         "type": "bar",
         "x": [
          60,
          61,
          62,
          63,
          64
         ],
         "y": [
          16101019.01163242,
          18958625.607588097,
          20473276.83292786,
          20781084.059720293,
          19222001.0529228
         ],
         "yaxis": "y2"
        },
        {
         "name": "Level of debt",
         "opacity": 0.2,
         "type": "bar",
         "x": [
          60,
          61,
          62,
          63,
          64
         ],
         "y": [
          30315466,
          29391454,
          22987067,
          23554848,
          23111953
         ],
         "yaxis": "y2"
        },
        {
         "name": "Capital Charge",
         "opacity": 0.2,
         "type": "bar",
         "x": [
          60,
          61,
          62,
          63,
          64
         ],
         "y": [
          1276520.3600708104,
          1100179.9591137024,
          972768.5883071965,
          991848.9135890072,
          972973.29694107
         ],
         "yaxis": "y2"
        },
        {
         "name": "Debt/Equity Ratio",
         "type": "scatter",
         "x": [
          60,
          61,
          62,
          63,
          64
         ],
         "y": [
          1.8828290295227987,
          1.550294552377057,
          1.1227839679786447,
          1.1334754208350497,
          1.2023697707833447
         ],
         "yaxis": "y1"
        },
        {
         "name": "WACC",
         "type": "scatter",
         "x": [
          60,
          61,
          62,
          63,
          64
         ],
         "y": [
          0.11000577572824846,
          0.09101784055313442,
          0.08953160536849461,
          0.08948488212702883,
          0.09193313676532366
         ],
         "yaxis": "y3"
        }
       ],
       "layout": {
        "title": "Capital and its Cost",
        "xaxis": {
         "title": "Time Period"
        },
        "yaxis": {
         "title": "Debt/Equity"
        },
        "yaxis2": {
         "overlaying": "y",
         "side": "right",
         "tickfont": {
          "color": "rgb(148, 103, 189)"
         },
         "title": "Capital",
         "titlefont": {
          "color": "rgb(148, 103, 189)"
         }
        },
        "yaxis3": {
         "anchor": "free",
         "overlaying": "y",
         "position": 0.9,
         "side": "right",
         "tickfont": {
          "color": "#000000"
         },
         "title": "WACC",
         "titlefont": {
          "color": "#000000"
         }
        }
       }
      },
      "text/html": [
       "<div id=\"775354ab-bc30-4938-8778-465a6eb763ae\" style=\"height: 525px; width: 100%;\" class=\"plotly-graph-div\"></div><script type=\"text/javascript\">require([\"plotly\"], function(Plotly) { window.PLOTLYENV=window.PLOTLYENV || {};window.PLOTLYENV.BASE_URL=\"https://plot.ly\";Plotly.newPlot(\"775354ab-bc30-4938-8778-465a6eb763ae\", [{\"type\": \"bar\", \"x\": [60, 61, 62, 63, 64], \"y\": [16101019.01163242, 18958625.607588097, 20473276.83292786, 20781084.059720293, 19222001.0529228], \"name\": \"Level of Equity\", \"yaxis\": \"y2\", \"opacity\": 0.2}, {\"type\": \"bar\", \"x\": [60, 61, 62, 63, 64], \"y\": [30315466.0, 29391454.0, 22987067.0, 23554848.0, 23111953.0], \"name\": \"Level of debt\", \"yaxis\": \"y2\", \"opacity\": 0.2}, {\"type\": \"bar\", \"x\": [60, 61, 62, 63, 64], \"y\": [1276520.3600708104, 1100179.9591137024, 972768.5883071965, 991848.9135890072, 972973.29694107], \"name\": \"Capital Charge\", \"yaxis\": \"y2\", \"opacity\": 0.2}, {\"type\": \"scatter\", \"x\": [60, 61, 62, 63, 64], \"y\": [1.8828290295227987, 1.550294552377057, 1.1227839679786447, 1.1334754208350497, 1.2023697707833447], \"name\": \"Debt/Equity Ratio\", \"yaxis\": \"y1\"}, {\"type\": \"scatter\", \"x\": [60, 61, 62, 63, 64], \"y\": [0.11000577572824846, 0.09101784055313442, 0.08953160536849461, 0.08948488212702883, 0.09193313676532366], \"name\": \"WACC\", \"yaxis\": \"y3\"}], {\"xaxis\": {\"title\": \"Time Period\"}, \"yaxis\": {\"title\": \"Debt/Equity\"}, \"yaxis2\": {\"title\": \"Capital\", \"titlefont\": {\"color\": \"rgb(148, 103, 189)\"}, \"tickfont\": {\"color\": \"rgb(148, 103, 189)\"}, \"overlaying\": \"y\", \"side\": \"right\"}, \"yaxis3\": {\"title\": \"WACC\", \"titlefont\": {\"color\": \"#000000\"}, \"tickfont\": {\"color\": \"#000000\"}, \"anchor\": \"free\", \"overlaying\": \"y\", \"side\": \"right\", \"position\": 0.9}, \"title\": \"Capital and its Cost\"}, {\"showLink\": true, \"linkText\": \"Export to plot.ly\"})});</script>"
      ],
      "text/vnd.plotly.v1+html": [
       "<div id=\"775354ab-bc30-4938-8778-465a6eb763ae\" style=\"height: 525px; width: 100%;\" class=\"plotly-graph-div\"></div><script type=\"text/javascript\">require([\"plotly\"], function(Plotly) { window.PLOTLYENV=window.PLOTLYENV || {};window.PLOTLYENV.BASE_URL=\"https://plot.ly\";Plotly.newPlot(\"775354ab-bc30-4938-8778-465a6eb763ae\", [{\"type\": \"bar\", \"x\": [60, 61, 62, 63, 64], \"y\": [16101019.01163242, 18958625.607588097, 20473276.83292786, 20781084.059720293, 19222001.0529228], \"name\": \"Level of Equity\", \"yaxis\": \"y2\", \"opacity\": 0.2}, {\"type\": \"bar\", \"x\": [60, 61, 62, 63, 64], \"y\": [30315466.0, 29391454.0, 22987067.0, 23554848.0, 23111953.0], \"name\": \"Level of debt\", \"yaxis\": \"y2\", \"opacity\": 0.2}, {\"type\": \"bar\", \"x\": [60, 61, 62, 63, 64], \"y\": [1276520.3600708104, 1100179.9591137024, 972768.5883071965, 991848.9135890072, 972973.29694107], \"name\": \"Capital Charge\", \"yaxis\": \"y2\", \"opacity\": 0.2}, {\"type\": \"scatter\", \"x\": [60, 61, 62, 63, 64], \"y\": [1.8828290295227987, 1.550294552377057, 1.1227839679786447, 1.1334754208350497, 1.2023697707833447], \"name\": \"Debt/Equity Ratio\", \"yaxis\": \"y1\"}, {\"type\": \"scatter\", \"x\": [60, 61, 62, 63, 64], \"y\": [0.11000577572824846, 0.09101784055313442, 0.08953160536849461, 0.08948488212702883, 0.09193313676532366], \"name\": \"WACC\", \"yaxis\": \"y3\"}], {\"xaxis\": {\"title\": \"Time Period\"}, \"yaxis\": {\"title\": \"Debt/Equity\"}, \"yaxis2\": {\"title\": \"Capital\", \"titlefont\": {\"color\": \"rgb(148, 103, 189)\"}, \"tickfont\": {\"color\": \"rgb(148, 103, 189)\"}, \"overlaying\": \"y\", \"side\": \"right\"}, \"yaxis3\": {\"title\": \"WACC\", \"titlefont\": {\"color\": \"#000000\"}, \"tickfont\": {\"color\": \"#000000\"}, \"anchor\": \"free\", \"overlaying\": \"y\", \"side\": \"right\", \"position\": 0.9}, \"title\": \"Capital and its Cost\"}, {\"showLink\": true, \"linkText\": \"Export to plot.ly\"})});</script>"
      ]
     },
     "metadata": {},
     "output_type": "display_data"
    }
   ],
   "source": [
    "\n",
    "d=[]\n",
    "d.append(Bar(\n",
    "        x=df_private.index.levels[0].values, \n",
    "        y=df_private.xs('Level of Equity', level=1).values.flatten(),\n",
    "        name='Level of Equity',\n",
    "        yaxis='y2',\n",
    "        opacity=0.2))\n",
    "d.append(Bar(\n",
    "        x=df_private.index.levels[0].values, \n",
    "        y=df_private.xs('Level of debt', level=1).values.flatten(),\n",
    "        name='Level of debt',\n",
    "        yaxis='y2',\n",
    "        opacity=0.2))\n",
    "d.append(Bar(\n",
    "        x=df_private.index.levels[0].values, \n",
    "        y=df_private.xs('Capital Charge', level=1).values.flatten(),\n",
    "        name='Capital Charge',\n",
    "        yaxis='y2',\n",
    "        opacity=0.2))\n",
    "d.append(Scatter(\n",
    "        x=df_private.index.levels[0].values, \n",
    "        y=df_private.xs('Debt/Equity Ratio', level=1).values.flatten(),\n",
    "        name='Debt/Equity Ratio',\n",
    "        yaxis='y1'))\n",
    "d.append(Scatter(\n",
    "        x=df_private.index.levels[0].values, \n",
    "        y=df_private.xs('WACC', level=1).values.flatten(),\n",
    "        name='WACC',\n",
    "        yaxis='y3'))\n",
    "\n",
    "\n",
    "\n",
    "data = Data(d)\n",
    "\n",
    "layout=Layout(\n",
    "        xaxis=dict(\n",
    "            title='Time Period'\n",
    "        ),\n",
    "        yaxis=dict(\n",
    "            title='Debt/Equity'\n",
    "        ),\n",
    "        yaxis2=dict(\n",
    "            title='Capital',\n",
    "            titlefont=dict(\n",
    "                color='rgb(148, 103, 189)'\n",
    "            ),\n",
    "            tickfont=dict(\n",
    "                color='rgb(148, 103, 189)'\n",
    "            ),\n",
    "            overlaying='y',\n",
    "            side='right'\n",
    "        ),\n",
    "        yaxis3=dict(\n",
    "            title='WACC',\n",
    "            titlefont=dict(\n",
    "                color='#000000'\n",
    "            ),\n",
    "            tickfont=dict(\n",
    "                color='#000000'\n",
    "            ),\n",
    "            anchor='free',\n",
    "            overlaying='y',\n",
    "            side='right',\n",
    "            position=0.90\n",
    "        ),\n",
    "        title= 'Capital and its Cost')\n",
    "\n",
    "fig = Figure(data=data, layout=layout)\n",
    "iplot(fig)"
   ]
  },
  {
   "cell_type": "code",
   "execution_count": null,
   "metadata": {
    "collapsed": true
   },
   "outputs": [],
   "source": []
  },
  {
   "cell_type": "code",
   "execution_count": null,
   "metadata": {
    "collapsed": true
   },
   "outputs": [],
   "source": []
  }
 ],
 "metadata": {
  "kernelspec": {
   "display_name": "Python 3",
   "language": "python",
   "name": "python3"
  },
  "language_info": {
   "codemirror_mode": {
    "name": "ipython",
    "version": 3
   },
   "file_extension": ".py",
   "mimetype": "text/x-python",
   "name": "python",
   "nbconvert_exporter": "python",
   "pygments_lexer": "ipython3",
   "version": "3.6.3"
  }
 },
 "nbformat": 4,
 "nbformat_minor": 2
}
